{
 "cells": [
  {
   "cell_type": "markdown",
   "metadata": {},
   "source": [
    "##  Chargement des données\n",
    "\n",
    "train_features contient 13 variables explicatives : nombre moyen de pièces par habitation, taux de criminalité,...  \n",
    "train_medv correspond au prix médian (en k$) des maisons habitées "
   ]
  },
  {
   "cell_type": "code",
   "execution_count": 51,
   "metadata": {
    "collapsed": true
   },
   "outputs": [],
   "source": [
    "import matplotlib.pyplot as plt\n",
    "import numpy as np\n",
    "\n",
    "from keras.datasets import boston_housing\n",
    "from keras import models\n",
    "from keras import layers\n",
    "from keras import optimizers\n",
    "\n",
    "%matplotlib inline"
   ]
  },
  {
   "cell_type": "code",
   "execution_count": 52,
   "metadata": {},
   "outputs": [],
   "source": [
    "(train_features, train_medv), (test_features, test_medv) = boston_housing.load_data()"
   ]
  },
  {
   "cell_type": "code",
   "execution_count": 53,
   "metadata": {},
   "outputs": [
    {
     "data": {
      "text/plain": [
       "array([2.1770e-02, 8.2500e+01, 2.0300e+00, 0.0000e+00, 4.1500e-01,\n",
       "       7.6100e+00, 1.5700e+01, 6.2700e+00, 2.0000e+00, 3.4800e+02,\n",
       "       1.4700e+01, 3.9538e+02, 3.1100e+00])"
      ]
     },
     "execution_count": 53,
     "metadata": {},
     "output_type": "execute_result"
    }
   ],
   "source": [
    "train_features[1]"
   ]
  },
  {
   "cell_type": "code",
   "execution_count": 54,
   "metadata": {},
   "outputs": [
    {
     "data": {
      "text/plain": [
       "42.3"
      ]
     },
     "execution_count": 54,
     "metadata": {},
     "output_type": "execute_result"
    }
   ],
   "source": [
    "train_medv[1]"
   ]
  },
  {
   "cell_type": "code",
   "execution_count": 55,
   "metadata": {},
   "outputs": [
    {
     "name": "stdout",
     "output_type": "stream",
     "text": [
      "Shape of features (404, 13)\n",
      "Shape of medv (404,)\n"
     ]
    }
   ],
   "source": [
    "print(\"Shape of features \" + str(train_features.shape))\n",
    "print(\"Shape of medv \" + str(train_medv.shape))"
   ]
  },
  {
   "cell_type": "markdown",
   "metadata": {},
   "source": [
    "## Préparation des données\n",
    "On centre et on réduit les variables explicatives des échantillons d'apprentissage et de test.   \n",
    "Moyennes et écart-types seront calculés sur l'échantillon d'apprentissage."
   ]
  },
  {
   "cell_type": "code",
   "execution_count": 56,
   "metadata": {},
   "outputs": [],
   "source": [
    "mean = train_features.mean(axis=0)\n",
    "std = train_features.std(axis=0)\n",
    "\n",
    "train_features = (train_features - mean)/std\n",
    "test_features = (test_features - mean)/std"
   ]
  },
  {
   "cell_type": "markdown",
   "metadata": {},
   "source": [
    "#  Définition du modèle\n",
    "\n",
    "Réseau de neurones avec deux couches cachées de N_1 et N_2 neurones respectivement.\n",
    "fonctions d'activation ReLU.  \n",
    "\n",
    "\n",
    "#### La couche de sortie contiendra une seule unité et n'aura pas de fonction d'activation.  \n"
   ]
  },
  {
   "cell_type": "code",
   "execution_count": 57,
   "metadata": {
    "collapsed": true
   },
   "outputs": [],
   "source": [
    "def build_nn(N_1,N_2):\n",
    "    model = models.Sequential()\n",
    "    model.add(layers.Dense(N_1, activation = 'relu', input_shape=(train_features.shape[1],)))\n",
    "    model.add(layers.Dense(N_2, activation = 'relu'))\n",
    "    model.add(layers.Dense(1))\n",
    "    model.compile(optimizer = 'rmsprop', loss='mse', metrics = ['mae'])\n",
    "    return model"
   ]
  },
  {
   "cell_type": "markdown",
   "metadata": {},
   "source": [
    "# Validation du modèle "
   ]
  },
  {
   "cell_type": "code",
   "execution_count": 33,
   "metadata": {},
   "outputs": [
    {
     "name": "stdout",
     "output_type": "stream",
     "text": [
      "134\n"
     ]
    }
   ],
   "source": [
    "k = 3\n",
    "nb_examples = len(train_features) // k\n",
    "print(nb_examples)"
   ]
  },
  {
   "cell_type": "code",
   "execution_count": 34,
   "metadata": {},
   "outputs": [
    {
     "name": "stdout",
     "output_type": "stream",
     "text": [
      "Echantillon N°1\n",
      "134/134 [==============================] - 0s 709us/step\n",
      "MSE : 12.337526563388199\n",
      "Echantillon N°2\n",
      "134/134 [==============================] - 0s 750us/step\n",
      "MSE : 13.159405807950604\n",
      "Echantillon N°3\n",
      "134/134 [==============================] - 0s 777us/step\n",
      "MSE : 19.861436238929407\n"
     ]
    }
   ],
   "source": [
    "nb_epochs = 100\n",
    "batch_size = 1\n",
    "N_1 = 32\n",
    "N_2 = 32\n",
    "mse_k_cv = []\n",
    "mae_k_cv = []\n",
    "\n",
    "for i in range(k):\n",
    "    print('Echantillon N°'+str(i+1))\n",
    "    #Validation set\n",
    "    validation_features = train_features[i*nb_examples:(i+1)*nb_examples]\n",
    "    validation_medv = train_medv[i*nb_examples:(i+1)*nb_examples]\n",
    "    \n",
    "    #training set\n",
    "    partial_train_features= np.concatenate([train_features[:i*nb_examples],\n",
    "                                          train_features[(i+1)*nb_examples:]], axis=0)\n",
    "    \n",
    "    partial_train_medv= np.concatenate([train_medv[:i*nb_examples],\n",
    "                                          train_medv[(i+1)*nb_examples:]], axis=0)\n",
    "    \n",
    "    model = build_nn(N_1,N_2)\n",
    "    #verbose = 0 pour ne pas afficher la progression de l'optimisation\n",
    "    history = model.fit(partial_train_features,partial_train_medv,\n",
    "             epochs = nb_epochs,batch_size=batch_size, verbose = 0)\n",
    "    validation_mse, validation_mae = model.evaluate(validation_features,validation_medv)\n",
    "\n",
    "    \n",
    "    print(\"MSE : \"+ str(validation_mse))\n",
    "    mae_k_cv.append(validation_mae)\n",
    "    mse_k_cv.append(validation_mse)   "
   ]
  },
  {
   "cell_type": "code",
   "execution_count": 35,
   "metadata": {},
   "outputs": [
    {
     "name": "stdout",
     "output_type": "stream",
     "text": [
      "Mean Absolute Error : [2.5468088370650563, 2.6877454643818868, 2.796379847313041]\n"
     ]
    }
   ],
   "source": [
    "print(\"Mean Absolute Error : \" +str(mae_k_cv))"
   ]
  },
  {
   "cell_type": "code",
   "execution_count": 36,
   "metadata": {},
   "outputs": [
    {
     "name": "stdout",
     "output_type": "stream",
     "text": [
      "Echantillon N°1\n",
      "Echantillon N°2\n",
      "Echantillon N°3\n"
     ]
    }
   ],
   "source": [
    "nb_epochs = 500\n",
    "batch_size = 1\n",
    "N_1 = 32\n",
    "N_2 = 32\n",
    "\n",
    "mae_history_k_cv = []\n",
    "\n",
    "for i in range(k):\n",
    "    print('Echantillon N°'+str(i+1))\n",
    "    #Validation set\n",
    "    validation_features = train_features[i*nb_examples:(i+1)*nb_examples]\n",
    "    validation_medv = train_medv[i*nb_examples:(i+1)*nb_examples]\n",
    "    \n",
    "    #training set\n",
    "    partial_train_features= np.concatenate([train_features[:i*nb_examples],\n",
    "                                          train_features[(i+1)*nb_examples:]], axis=0)\n",
    "    \n",
    "    partial_train_medv= np.concatenate([train_medv[:i*nb_examples],\n",
    "                                          train_medv[(i+1)*nb_examples:]], axis=0)\n",
    "    \n",
    "    model = build_nn(N_1,N_2)\n",
    "    #verbose = 0 pour ne pas afficher la progression de l'optimisation\n",
    "    history = model.fit(partial_train_features,partial_train_medv,\n",
    "             epochs = nb_epochs,batch_size=batch_size, verbose = 0,\n",
    "                       validation_data = (validation_features,validation_medv))\n",
    "    \n",
    "    mae_history = history.history['val_mean_absolute_error']\n",
    "    \n",
    "    mae_history_k_cv.append(mae_history)\n",
    "    "
   ]
  },
  {
   "cell_type": "code",
   "execution_count": 37,
   "metadata": {
    "collapsed": true
   },
   "outputs": [],
   "source": [
    "#On moyenne pour chaque epoch la MAE sur les k champs de validation\n",
    "avg_mae_history = [np.mean([x[i] for x in mae_history_k_cv]) for i in range(nb_epochs)]"
   ]
  },
  {
   "cell_type": "code",
   "execution_count": 38,
   "metadata": {},
   "outputs": [
    {
     "data": {
      "image/png": "[encoded data removed]",
      "text/plain": [
       "<Figure size 432x288 with 1 Axes>"
      ]
     },
     "metadata": {},
     "output_type": "display_data"
    }
   ],
   "source": [
    "plt.plot(range(1,nb_epochs+1),avg_mae_history)\n",
    "plt.xlabel(\"Epochs\")\n",
    "plt.ylabel(\"Validation MAE\")\n",
    "plt.show()"
   ]
  },
  {
   "cell_type": "markdown",
   "metadata": {},
   "source": [
    "On lisse la courbe en utilisant une moyenne exponentielle mobile sur 10 points"
   ]
  },
  {
   "cell_type": "code",
   "execution_count": 40,
   "metadata": {},
   "outputs": [],
   "source": [
    "def ewma(points, factor=0.9):\n",
    "    ewma_points = []\n",
    "    \n",
    "    for point in points:\n",
    "        if ewma_points:\n",
    "            previous = ewma_points[-1]\n",
    "            ewma_points.append(previous*factor+point*(1-factor))\n",
    "        else:\n",
    "            ewma_points.append(point)\n",
    "            \n",
    "    return ewma_points      \n",
    "        \n",
    "    "
   ]
  },
  {
   "cell_type": "code",
   "execution_count": 42,
   "metadata": {},
   "outputs": [
    {
     "data": {
      "image/png": "[encoded data removed]",
      "text/plain": [
       "<Figure size 432x288 with 1 Axes>"
      ]
     },
     "metadata": {},
     "output_type": "display_data"
    }
   ],
   "source": [
    "ewma_mae = ewma(avg_mae_history[10:])\n",
    "\n",
    "plt.plot(range(11,nb_epochs+1),ewma_mae)\n",
    "plt.xlabel(\"Epochs\")\n",
    "plt.ylabel(\"Validation ewma MAE\")\n",
    "plt.show()"
   ]
  },
  {
   "cell_type": "code",
   "execution_count": 48,
   "metadata": {},
   "outputs": [
    {
     "data": {
      "text/plain": [
       "array([ 61,  62,  52,  51,  53,  60,  56,  50,  47,  48,  54,  58,  63,\n",
       "        49,  59,  55,  64,  57,  46,  73,  45,  65,  72,  71,  67,  74,\n",
       "        68,  77,  69,  66,  70,  76,  44,  75,  78,  79,  43,  88,  86,\n",
       "        90,  92,  84,  85,  41,  89,  91,  93,  94,  42,  83,  82,  38,\n",
       "        87,  37,  80,  95,  81,  96,  40,  39,  33,  34,  36, 101,  98,\n",
       "       102,  97, 104,  99, 100, 103,  35,  32,  31, 105, 109, 107, 108,\n",
       "       106,  30,  27, 110, 111,  29, 112,  28, 116, 113, 114,  26, 115,\n",
       "        25, 121, 120, 119, 117, 118,  24, 122, 123,  23,  22, 124, 125,\n",
       "       126,  21, 127,  20, 128,  19, 129, 131, 130,  18, 132, 141, 134,\n",
       "       133, 142, 140, 135,  17, 137, 138, 136, 143, 139,  16, 144,  15,\n",
       "        14, 145, 147, 148, 146, 150, 149, 151,  13, 154,  12, 153, 152,\n",
       "        11,  10, 158, 157, 155, 156,   9, 159, 160, 161,   8, 164, 162,\n",
       "       163,   7, 165, 167, 166,   5,   6, 168, 169, 173, 175, 176,   4,\n",
       "       174, 172, 170, 171, 177,   3, 179, 178, 180, 186, 187, 181, 185,\n",
       "       188, 195, 183, 189, 184, 182, 197, 196,   2, 190, 191, 194,   1,\n",
       "       192, 193, 198,   0, 209, 210, 199, 208, 200, 202, 201, 211, 203,\n",
       "       207, 212, 206, 204, 205, 213, 214, 216, 215, 217, 218, 222, 221,\n",
       "       226, 220, 219, 223, 227, 225, 224, 228, 229, 230, 231, 232, 233,\n",
       "       234, 237, 235, 236, 238, 249, 248, 242, 240, 239, 246, 241, 247,\n",
       "       245, 244, 250, 243, 252, 251, 264, 253, 256, 255, 254, 269, 268,\n",
       "       262, 266, 258, 265, 261, 263, 260, 259, 257, 267, 270, 271, 273,\n",
       "       272, 274, 278, 277, 275, 276, 279, 280, 281, 282, 283, 284, 285,\n",
       "       287, 286, 290, 292, 289, 288, 293, 291, 294, 295, 297, 296, 298,\n",
       "       301, 300, 299, 302, 303, 304, 305, 306, 308, 307, 309, 312, 320,\n",
       "       313, 319, 314, 318, 321, 311, 317, 315, 316, 323, 310, 322, 324,\n",
       "       335, 334, 329, 328, 326, 336, 330, 333, 327, 332, 331, 337, 325,\n",
       "       338, 340, 362, 339, 368, 363, 366, 364, 365, 361, 370, 367, 341,\n",
       "       343, 378, 342, 360, 371, 344, 369, 390, 386, 385, 377, 389, 388,\n",
       "       379, 391, 380, 387, 395, 394, 373, 383, 376, 392, 345, 352, 346,\n",
       "       372, 374, 393, 384, 353, 375, 348, 351, 381, 359, 350, 382, 396,\n",
       "       349, 347, 358, 354, 412, 413, 357, 414, 397, 415, 408, 356, 399,\n",
       "       411, 424, 398, 410, 355, 409, 425, 423, 422, 407, 421, 417, 416,\n",
       "       401, 402, 420, 426, 400, 406, 427, 419, 449, 448, 404, 403, 418,\n",
       "       440, 405, 468, 447, 450, 467, 459, 456, 457, 429, 446, 454, 452,\n",
       "       428, 460, 470, 441, 451, 466, 436, 437, 458, 463, 464, 461, 442,\n",
       "       469, 465, 432, 455, 453, 430, 462, 435, 471, 438, 439, 473, 472,\n",
       "       433, 445, 431, 434, 443, 475, 474, 476, 487, 444, 480, 485, 477,\n",
       "       486, 488, 484, 479, 478, 483, 482, 481, 489], dtype=int64)"
      ]
     },
     "execution_count": 48,
     "metadata": {},
     "output_type": "execute_result"
    }
   ],
   "source": [
    "np.argsort(ewma_mae)"
   ]
  },
  {
   "cell_type": "markdown",
   "metadata": {},
   "source": [
    "# Modèle final\n",
    "Apprentissage sur toutes les données du train set, model performance"
   ]
  },
  {
   "cell_type": "code",
   "execution_count": 58,
   "metadata": {},
   "outputs": [
    {
     "name": "stdout",
     "output_type": "stream",
     "text": [
      "102/102 [==============================] - 0s 1ms/step\n",
      "Test MSE : 19.891983331418505\n",
      "Test MAE : 2.896337911194446\n"
     ]
    }
   ],
   "source": [
    "nb_epochs = 61\n",
    "model = build_nn(32,32)\n",
    "model.fit(train_features,train_medv, epochs =nb_epochs, batch_size=16, verbose =0)\n",
    "\n",
    "test_mse, test_mae = model.evaluate(test_features, test_medv)\n",
    "print(\"Test MSE : \"+ str(test_mse))\n",
    "print(\"Test MAE : \"+ str(test_mae))\n"
   ]
  }
 ],
 "metadata": {
  "kernelspec": {
   "display_name": "Python 3",
   "language": "python",
   "name": "python3"
  },
  "language_info": {
   "codemirror_mode": {
    "name": "ipython",
    "version": 3
   },
   "file_extension": ".py",
   "mimetype": "text/x-python",
   "name": "python",
   "nbconvert_exporter": "python",
   "pygments_lexer": "ipython3",
   "version": "3.7.3"
  }
 },
 "nbformat": 4,
 "nbformat_minor": 2
}
